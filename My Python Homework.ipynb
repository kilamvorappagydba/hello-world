{
 "cells": [
  {
   "cell_type": "code",
   "execution_count": 1,
   "metadata": {},
   "outputs": [
    {
     "name": "stdout",
     "output_type": "stream",
     "text": [
      "Please enter your name and surname: Malik Abdygapparov\n",
      "Welcome\n"
     ]
    }
   ],
   "source": [
    "name_surname = \"Malik Abdygapparov\"\n",
    "\n",
    "check = False\n",
    "\n",
    "for x in range(4):\n",
    "    blank = str(input(\"Please enter your name and surname: \"))\n",
    "    if blank == name_surname:\n",
    "        print(\"Welcome\")\n",
    "        check = True\n",
    "        break\n",
    "    elif blank != name_surname:\n",
    "        print(\"Incorrect name/surname\")\n",
    "\n",
    "if not check:\n",
    "    print(\"Please try again later\")"
   ]
  },
  {
   "cell_type": "code",
   "execution_count": 2,
   "metadata": {},
   "outputs": [
    {
     "name": "stdout",
     "output_type": "stream",
     "text": [
      "Please choose at least 3 and at most 5 courses:economics\n",
      "You failed in class\n",
      "Please choose at least 3 and at most 5 courses:statistics\n",
      "You failed in class\n",
      "Please choose at least 3 and at most 5 courses:history\n",
      "Please choose at least 3 and at most 5 courses:calculus\n",
      "Please choose at least 3 and at most 5 courses:english\n"
     ]
    }
   ],
   "source": [
    "courses = [\"course1\", \"course2\", \"course3\", \"course4\", \"course5\"] #courses are defined by the user(student)\n",
    "\n",
    "check = False\n",
    "\n",
    "for x in range(5):\n",
    "    course1 = str(input(\"Please choose at least 3 and at most 5 courses:\"))\n",
    "    if x < 2 :\n",
    "        print(\"You failed in class\")"
   ]
  },
  {
   "cell_type": "code",
   "execution_count": 3,
   "metadata": {},
   "outputs": [
    {
     "name": "stdout",
     "output_type": "stream",
     "text": [
      "Please choose one of your courses that you wish to take exams on:history\n",
      "history\n"
     ]
    }
   ],
   "source": [
    "choice = str(input(\"Please choose one of your courses that you wish to take exams on:\"))\n",
    "print(choice)"
   ]
  },
  {
   "cell_type": "code",
   "execution_count": 4,
   "metadata": {},
   "outputs": [
    {
     "name": "stdout",
     "output_type": "stream",
     "text": [
      "These are your grades for this course: {'midterm': 11, 'final': 11, 'project': 99}\n"
     ]
    }
   ],
   "source": [
    "grades = {\"midterm\": 11 , \"final\": 11 , \"project\": 99}\n",
    "print(\"These are your grades for this course:\", grades)"
   ]
  },
  {
   "cell_type": "code",
   "execution_count": 5,
   "metadata": {},
   "outputs": [
    {
     "name": "stdout",
     "output_type": "stream",
     "text": [
      "28.6\n"
     ]
    }
   ],
   "source": [
    "grade = grades[\"midterm\"]*0.3 + grades[\"final\"]*0.5 + grades[\"project\"]*0.2\n",
    "print(grade)"
   ]
  },
  {
   "cell_type": "code",
   "execution_count": 6,
   "metadata": {},
   "outputs": [
    {
     "name": "stdout",
     "output_type": "stream",
     "text": [
      "Please enter your grade calculated according to the formula above:28.6\n",
      "You have failed in this class\n",
      "Your grade is FF\n"
     ]
    }
   ],
   "source": [
    "grade = float(input(\"Please enter your grade calculated according to the formula above:\"))\n",
    "\n",
    "if grade < 0:\n",
    "    print(\"Invalid value\")\n",
    "else:\n",
    "    \n",
    "    if grade > 90:\n",
    "        grade = \"AA\"\n",
    "    elif 90 > grade > 70:\n",
    "        grade = \"BB\"\n",
    "    elif 70 > grade > 50:\n",
    "        grade = \"CC\"\n",
    "    elif 50 > grade > 30:\n",
    "        grade = \"DD\"\n",
    "    elif 30 > grade:\n",
    "        grade = \"FF\"\n",
    "        print(\"You have failed in this class\")\n",
    "    else:\n",
    "        grade = \"undetermined\"\n",
    "        \n",
    "    print(\"Your grade is\", grade)"
   ]
  }
 ],
 "metadata": {
  "kernelspec": {
   "display_name": "Python 3",
   "language": "python",
   "name": "python3"
  },
  "language_info": {
   "codemirror_mode": {
    "name": "ipython",
    "version": 3
   },
   "file_extension": ".py",
   "mimetype": "text/x-python",
   "name": "python",
   "nbconvert_exporter": "python",
   "pygments_lexer": "ipython3",
   "version": "3.8.5"
  }
 },
 "nbformat": 4,
 "nbformat_minor": 4
}
